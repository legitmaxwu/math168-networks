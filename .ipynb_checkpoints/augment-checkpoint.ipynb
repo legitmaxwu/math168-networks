{
 "cells": [
  {
   "cell_type": "code",
   "execution_count": 1,
   "metadata": {},
   "outputs": [],
   "source": [
    "import numpy as np\n",
    "import pandas as pd\n",
    "import matplotlib.pyplot as plt\n",
    "\n",
    "%load_ext autoreload\n",
    "%autoreload 2"
   ]
  },
  {
   "cell_type": "code",
   "execution_count": 2,
   "metadata": {},
   "outputs": [],
   "source": [
    "np_data = np.loadtxt(\"./data/Kissler_DataS1.csv\", delimiter=\",\")\n",
    "df_data = pd.DataFrame(np_data)\n",
    "df_data.columns = ['Time', 'Person1', 'Person2', 'Distance']"
   ]
  },
  {
   "cell_type": "code",
   "execution_count": 3,
   "metadata": {},
   "outputs": [],
   "source": [
    "# df_data[df_data['Person1'] == 60]['Person2'].value_counts()\n",
    "# 411, 287, 403,  19, 26"
   ]
  },
  {
   "cell_type": "code",
   "execution_count": 4,
   "metadata": {},
   "outputs": [
    {
     "name": "stderr",
     "output_type": "stream",
     "text": [
      "/Users/maxwu/miniconda3/envs/ganimals/lib/python3.6/site-packages/ipykernel_launcher.py:1: UserWarning: Boolean Series key will be reindexed to match DataFrame index.\n",
      "  \"\"\"Entry point for launching an IPython kernel.\n"
     ]
    },
    {
     "data": {
      "text/plain": [
       "<matplotlib.axes._subplots.AxesSubplot at 0x7ff1385ec748>"
      ]
     },
     "execution_count": 4,
     "metadata": {},
     "output_type": "execute_result"
    },
    {
     "data": {
      "image/png": "[encoded data removed]",
      "text/plain": [
       "<Figure size 432x288 with 1 Axes>"
      ]
     },
     "metadata": {
      "needs_background": "light"
     },
     "output_type": "display_data"
    }
   ],
   "source": [
    "df_data[df_data['Person1'] == 60][df_data['Person2'] == 403]['Distance'].hist()\n",
    "# df_data[df_data['Person1'] == 1][df_data['Person2'] == 287]['Distance'].hist()\n",
    "# df_data[df_data['Person1'] == 1][(df_data['Person2'] != 403) & (df_data['Person2'] != 390)]['Distance'].hist()"
   ]
  },
  {
   "cell_type": "code",
   "execution_count": 5,
   "metadata": {},
   "outputs": [
    {
     "data": {
      "text/plain": [
       "<matplotlib.axes._subplots.AxesSubplot at 0x7ff137270a90>"
      ]
     },
     "execution_count": 5,
     "metadata": {},
     "output_type": "execute_result"
    },
    {
     "data": {
      "image/png": "[encoded data removed]",
      "text/plain": [
       "<Figure size 432x288 with 1 Axes>"
      ]
     },
     "metadata": {
      "needs_background": "light"
     },
     "output_type": "display_data"
    }
   ],
   "source": [
    "df_data['Distance'].hist()"
   ]
  },
  {
   "cell_type": "markdown",
   "metadata": {},
   "source": [
    "# Data Augmentation\n",
    "\n",
    "Goal: Extend 3 days of interaction data to 1 month using random sampling based on current distribution. Many current methods make it difficult to account for temporal clustering--the fact that when people initiate contact, they're likely to stay in contact (i.e. they start a conversation that lasts for a period of time).\n",
    "\n",
    "Method: We use the existing data to create a computationally efficient Markovian model, creating separate functions to:\n",
    "\n",
    "1. Determine the probability of nodes $i$ and $j$ being in contact at time step $t$.\n",
    "2. Determine the distance between $i$ and $j$ assuming they're in contact.\n",
    "\n",
    "## Probability\n",
    "\n",
    "Our model mines the probability of interaction between people $i$ and $j$ from the dataset, assuming that the probability depends on whether $i$ and $j$ interacted in the previous timestep.\n",
    "\n",
    "- If people (nodes) $i$ and $j$ are **in contact** at timestep $t$, their probability of contact at $t+1$ is \n",
    "$$\n",
    "P_{ij}^{\\text{stay}} = \\frac{\\text{# cases where $(i, j)$ were in contact at both $t$ and $t+1$}}{\\text{# cases where $(i, j)$ were in contact at $t$}}\n",
    "$$\n",
    "- If $i$ and $j$ **aren't in contact** at $t$, their probability of contact at $t+1$ is \n",
    "$$\n",
    "P_{ij}^{\\text{meet}} = \\frac{\\text{# cases where $(i, j)$ were not in contact at $t$ but were at $t+1$}}{\\text{# cases where $(i, j)$ were not in contact at $t$}}\n",
    "$$\n",
    "\n",
    "$P_{ij}^{\\text{stay}}$ and $P_{ij}^{\\text{meet}}$, once mined for each pair $(i,j)$, are constant throughout data generation.\n",
    "\n",
    "## Distance\n",
    "\n",
    "Assuming $(i,j)$ are in contact at time $t$, we now must determine their distance. If $P_{ij}^{\\text{stay}} > 0.7$, our model assumes that $i$ and $j$ are \"friends\". Intuitively, $P_{ij}^{\\text{stay}} > 0.7$ implies that whenever $i$ and $j$ interact, their expected time of interaction is $\\frac{1}{1-0.7} = 3.3$ timesteps, or around 16 minutes, meaning they're likely not just passing by one another. This restriction prevents chance encounters (i.e. $i$ and $j$ are \"in contact\" for a single timestep because they cross each other on the street) from denoting $i$ and $j$ as \"friends\".\n",
    "\n",
    "- If $i$ and $j$ are \"friends\", their distance during contact is drawn from a probability distribution:\n",
    "$$\n",
    "d_{ij}^{\\text{friends}} \\sim \\mathcal{N}(6, 3)\n",
    "$$\n",
    "- If $i$ and $j$ are not \"friends\", their distance during contact is drawn from a different probability distribution:\n",
    "$$\n",
    "d_{ij}^{\\text{friends}} \\sim \\mathcal{N}(25, 5)\n",
    "$$\n",
    "\n",
    "This sampling occurs at every time step of generation. The normal distribution parameters are determined from examining the dataset, which I will write about later. If $d_{ij}$ is sampled to be less than 0, we set it to 0.\n",
    "\n",
    "## Generating the Data\n",
    "\n",
    "At every timestep $t$, to determine the interaction between nodes $i$ and $j$, the following steps are therefore taken:\n",
    "\n",
    "1. Determine the probability of interaction. If $i$ and $j$ interacted in the previous timestep, use $P_{ij}^{\\text{stay}}$. Otherwise, use $P_{ij}^{\\text{meet}}$.\n",
    "2. Connect $i$ and $j$ with the determined probability.\n",
    "3. If $i$ and $j$ are connected, sample $d_{ij}$ depending on whether $i$ and $j$ are considered \"friends\" or not.\n",
    "\n",
    "Using NumPy we can vectorize operations to perform these calculations quickly."
   ]
  },
  {
   "cell_type": "code",
   "execution_count": 6,
   "metadata": {},
   "outputs": [
    {
     "name": "stdout",
     "output_type": "stream",
     "text": [
      "t: 0. close: 236. far: 219725\n",
      "t: 100. close: 229. far: 219732\n",
      "t: 200. close: 220. far: 219741\n",
      "t: 300. close: 220. far: 219741\n",
      "t: 400. close: 198. far: 219763\n",
      "t: 500. close: 225. far: 219736\n",
      "t: 600. close: 224. far: 219737\n",
      "t: 700. close: 230. far: 219731\n",
      "t: 800. close: 209. far: 219752\n",
      "t: 900. close: 226. far: 219735\n",
      "Done\n"
     ]
    }
   ],
   "source": [
    "def generate_more_data(df_data, more_timesteps=100):\n",
    "    \n",
    "    df = df_data.copy()\n",
    "    \n",
    "    # Generate Markovian matrices\n",
    "    \n",
    "    # Generate td matrix\n",
    "    n = int(df['Person2'].max())\n",
    "    maxtime = int(df['Time'].max())\n",
    "    tdmatrix = np.zeros((maxtime, n, n))\n",
    "    tdmatrix.fill(50+1) # if no edge exists, set d > xi to simulate no contact.\n",
    "    df['Time'] -= 1\n",
    "    df['Person1'] -= 1\n",
    "    df['Person2'] -= 1\n",
    "    times = df['Time'].to_numpy().astype(int)\n",
    "    p1s = df['Person1'].to_numpy().astype(int)\n",
    "    p2s = df['Person2'].to_numpy().astype(int)\n",
    "    distances = df['Distance'].to_numpy()\n",
    "    coords = np.vstack([times, p1s, p2s]).T\n",
    "    for i in range(coords.shape[0]):\n",
    "        coord = coords[i]\n",
    "        tdmatrix[coord[0], coord[1], coord[2]] = distances[i]\n",
    "        \n",
    "    # Probabilities\n",
    "    tdmatrix_t1 = tdmatrix[:-1] # earlier timestep\n",
    "    tdmatrix_t2 = tdmatrix[1:] # later timestep\n",
    "    \n",
    "    prob_close_given_close = ((tdmatrix_t2 < 51) & (tdmatrix_t1 < 51)).sum(axis=0) / ((tdmatrix_t1 < 51).sum(axis=0)+0.0000001) # P(t2 close | t1 close)\n",
    "    prob_close_given_far = ((tdmatrix_t2 < 51) & (tdmatrix_t1 == 51)).sum(axis=0) / ((tdmatrix_t1 == 51).sum(axis=0)+0.0000001) # P(t2 close | t1 far)\n",
    "    prob_close_given_far += 0.0001\n",
    "    \n",
    "    # Bffl's will be closer to each other\n",
    "    bffls = prob_close_given_close > 0.7\n",
    "    bffl_dist, bffl_std = 6, 3\n",
    "    not_bffls = np.logical_not(bffls)\n",
    "    not_bffl_dist, not_bffl_std = 25, 5\n",
    "    \n",
    "    td0, td1, td2 = tdmatrix.shape[0], tdmatrix.shape[1], tdmatrix.shape[2]\n",
    "    m = np.zeros((more_timesteps + td0, td1, td2))\n",
    "    m[:tdmatrix.shape[0]] = tdmatrix\n",
    "    \n",
    "    for t in range(more_timesteps):\n",
    "        close = m[td0+t-1] <= 50 # 1 if i,j are close, 0 otherwise\n",
    "        far = np.logical_not(close) # 1 if i,j are not close, 0 otherwise\n",
    "        p = np.random.random(prob_close_given_close.shape)\n",
    "        p2 = np.random.random(prob_close_given_far.shape)\n",
    "\n",
    "        bffl_d = np.maximum(0, np.random.normal(bffl_dist, bffl_std, (n, n)))\n",
    "        not_bffl_d = np.maximum(0, np.random.normal(not_bffl_dist, not_bffl_std, (n, n)))\n",
    "        d = bffls * bffl_d + not_bffls * not_bffl_d\n",
    "        d = d.astype(int)\n",
    "        \n",
    "        new_dists = np.zeros((n, n))\n",
    "        new_close = ((p < prob_close_given_close) * close) | ((p2 < prob_close_given_far) * far)\n",
    "        new_far = np.logical_not(new_close)\n",
    "        new_dists += new_close * d\n",
    "        new_dists += new_far * 51.\n",
    "        m[td0+t] = new_dists\n",
    "        \n",
    "        if t % 100 == 0:\n",
    "            print(f\"t: {t}. close: {close.sum()}. far: {far.sum()}\")\n",
    "            \n",
    "        \n",
    "    return m\n",
    "    \n",
    "moar_data = generate_more_data(df_data, 1000)\n",
    "print(\"Done\")\n",
    "        \n",
    "    \n",
    "    "
   ]
  },
  {
   "cell_type": "code",
   "execution_count": 7,
   "metadata": {},
   "outputs": [
    {
     "name": "stdout",
     "output_type": "stream",
     "text": [
      "(323518, 3) (323518,)\n"
     ]
    }
   ],
   "source": [
    "coords = np.argwhere(moar_data < 51)\n",
    "xd = np.where(moar_data < 51)\n",
    "closedists = moar_data[xd]\n",
    "print(coords.shape, closedists.shape)"
   ]
  },
  {
   "cell_type": "code",
   "execution_count": 8,
   "metadata": {},
   "outputs": [
    {
     "data": {
      "text/html": [
       "<div>\n",
       "<style scoped>\n",
       "    .dataframe tbody tr th:only-of-type {\n",
       "        vertical-align: middle;\n",
       "    }\n",
       "\n",
       "    .dataframe tbody tr th {\n",
       "        vertical-align: top;\n",
       "    }\n",
       "\n",
       "    .dataframe thead th {\n",
       "        text-align: right;\n",
       "    }\n",
       "</style>\n",
       "<table border=\"1\" class=\"dataframe\">\n",
       "  <thead>\n",
       "    <tr style=\"text-align: right;\">\n",
       "      <th></th>\n",
       "      <th>Time</th>\n",
       "      <th>Person1</th>\n",
       "      <th>Person2</th>\n",
       "      <th>Distance</th>\n",
       "    </tr>\n",
       "  </thead>\n",
       "  <tbody>\n",
       "    <tr>\n",
       "      <th>0</th>\n",
       "      <td>1.0</td>\n",
       "      <td>1.0</td>\n",
       "      <td>390.0</td>\n",
       "      <td>17.0</td>\n",
       "    </tr>\n",
       "    <tr>\n",
       "      <th>1</th>\n",
       "      <td>1.0</td>\n",
       "      <td>2.0</td>\n",
       "      <td>215.0</td>\n",
       "      <td>9.0</td>\n",
       "    </tr>\n",
       "    <tr>\n",
       "      <th>2</th>\n",
       "      <td>1.0</td>\n",
       "      <td>2.0</td>\n",
       "      <td>246.0</td>\n",
       "      <td>18.0</td>\n",
       "    </tr>\n",
       "    <tr>\n",
       "      <th>3</th>\n",
       "      <td>1.0</td>\n",
       "      <td>2.0</td>\n",
       "      <td>265.0</td>\n",
       "      <td>45.0</td>\n",
       "    </tr>\n",
       "    <tr>\n",
       "      <th>4</th>\n",
       "      <td>1.0</td>\n",
       "      <td>5.0</td>\n",
       "      <td>367.0</td>\n",
       "      <td>32.0</td>\n",
       "    </tr>\n",
       "  </tbody>\n",
       "</table>\n",
       "</div>"
      ],
      "text/plain": [
       "   Time  Person1  Person2  Distance\n",
       "0   1.0      1.0    390.0      17.0\n",
       "1   1.0      2.0    215.0       9.0\n",
       "2   1.0      2.0    246.0      18.0\n",
       "3   1.0      2.0    265.0      45.0\n",
       "4   1.0      5.0    367.0      32.0"
      ]
     },
     "execution_count": 8,
     "metadata": {},
     "output_type": "execute_result"
    }
   ],
   "source": [
    "df_create = pd.DataFrame(np.hstack([coords, closedists[:,np.newaxis]]))\n",
    "df_create.columns = ['Time', 'Person1', 'Person2', 'Distance']\n",
    "df_create['Time'] += 1\n",
    "df_create['Person1'] += 1\n",
    "df_create['Person2'] += 1\n",
    "df_create.head()\n",
    "# df_create.to_csv(\"generated_data.csv\")\n"
   ]
  },
  {
   "cell_type": "code",
   "execution_count": 23,
   "metadata": {},
   "outputs": [
    {
     "name": "stdout",
     "output_type": "stream",
     "text": [
      "[18.0, 22.0, 49.0, 1.0, 2.0, 1.0, 0.0, 1.0, 0.0, 2.0, 0.0, 0.0, 1.0, 1.0, 4.0, 0.0, 6.0, 20.0, 0.0, 2.0, 0.0, 8.0, 31.0]\n"
     ]
    },
    {
     "name": "stderr",
     "output_type": "stream",
     "text": [
      "/Users/maxwu/miniconda3/envs/ganimals/lib/python3.6/site-packages/ipykernel_launcher.py:1: UserWarning: Boolean Series key will be reindexed to match DataFrame index.\n",
      "  \"\"\"Entry point for launching an IPython kernel.\n"
     ]
    },
    {
     "data": {
      "text/plain": [
       "(0, 50)"
      ]
     },
     "execution_count": 23,
     "metadata": {},
     "output_type": "execute_result"
    },
    {
     "data": {
      "image/png": "[encoded data removed]",
      "text/plain": [
       "<Figure size 432x288 with 1 Axes>"
      ]
     },
     "metadata": {
      "needs_background": "light"
     },
     "output_type": "display_data"
    }
   ],
   "source": [
    "points = list(df_create[df_create['Person1']==1][df_create['Person2']==390][df_create['Time']<573]['Time'])\n",
    "intervals = []\n",
    "startpt = points[0]\n",
    "endpt = -1\n",
    "for i in range(len(points)-1):\n",
    "    if points[i]+1 == points[i+1]:\n",
    "        pass\n",
    "    else:\n",
    "        endpt = points[i]\n",
    "        intervals.append((startpt, endpt))\n",
    "        startpt = points[i+1]\n",
    "\n",
    "\n",
    "ilens = [x[1]-x[0] for x in intervals]\n",
    "print(ilens)\n",
    "pd.Series(ilens).hist()\n",
    "plt.title(\"BASE DATASET Interaction time intervals between Person 1 and 390\")\n",
    "plt.xlabel(\"Interaction time interval (timesteps)\")\n",
    "plt.ylabel(\"Count\")\n",
    "plt.xlim(0, 50)"
   ]
  },
  {
   "cell_type": "code",
   "execution_count": 24,
   "metadata": {},
   "outputs": [
    {
     "name": "stdout",
     "output_type": "stream",
     "text": [
      "[7.0, 0.0, 5.0, 16.0, 1.0, 2.0, 5.0, 2.0, 6.0, 7.0, 18.0, 8.0, 25.0, 9.0, 11.0, 0.0, 7.0, 3.0, 12.0, 6.0, 7.0, 22.0, 2.0, 1.0, 12.0, 1.0, 1.0, 2.0, 8.0, 0.0, 1.0, 2.0, 44.0, 1.0, 13.0, 12.0, 12.0, 5.0, 29.0, 0.0, 1.0, 1.0]\n"
     ]
    },
    {
     "name": "stderr",
     "output_type": "stream",
     "text": [
      "/Users/maxwu/miniconda3/envs/ganimals/lib/python3.6/site-packages/ipykernel_launcher.py:1: UserWarning: Boolean Series key will be reindexed to match DataFrame index.\n",
      "  \"\"\"Entry point for launching an IPython kernel.\n"
     ]
    },
    {
     "data": {
      "text/plain": [
       "(0, 50)"
      ]
     },
     "execution_count": 24,
     "metadata": {},
     "output_type": "execute_result"
    },
    {
     "data": {
      "image/png": "[encoded data removed]",
      "text/plain": [
       "<Figure size 432x288 with 1 Axes>"
      ]
     },
     "metadata": {
      "needs_background": "light"
     },
     "output_type": "display_data"
    }
   ],
   "source": [
    "points = list(df_create[df_create['Person1']==1][df_create['Person2']==390][df_create['Time']>=573]['Time'])\n",
    "intervals = []\n",
    "startpt = points[0]\n",
    "endpt = -1\n",
    "for i in range(len(points)-1):\n",
    "    if points[i]+1 == points[i+1]:\n",
    "        pass\n",
    "    else:\n",
    "        endpt = points[i]\n",
    "        intervals.append((startpt, endpt))\n",
    "        startpt = points[i+1]\n",
    "\n",
    "ilens = [x[1]-x[0] for x in intervals]\n",
    "print(ilens)\n",
    "pd.Series(ilens).hist()\n",
    "\n",
    "plt.title(\"GENERATED DATASET Interaction time intervals between Person 1 and 390\")\n",
    "plt.xlabel(\"Interaction time interval (timesteps)\")\n",
    "plt.ylabel(\"Count\")\n",
    "plt.xlim(0, 50)"
   ]
  },
  {
   "cell_type": "code",
   "execution_count": 106,
   "metadata": {},
   "outputs": [
    {
     "data": {
      "image/png": "[encoded data removed]",
      "text/plain": [
       "<Figure size 432x288 with 1 Axes>"
      ]
     },
     "metadata": {
      "needs_background": "light"
     },
     "output_type": "display_data"
    }
   ],
   "source": [
    "from seir_simulator import *\n",
    "\n",
    "\n",
    "sim = SEIR_Simulator(df_create)\n",
    "# sim.infect_k_random(10)\n",
    "sim.set_k_random(10, State.E)\n",
    "results = sim.simulate(timesteps=10000, logsteps=False)\n",
    "plot_SEIR(*results)"
   ]
  },
  {
   "cell_type": "code",
   "execution_count": 93,
   "metadata": {},
   "outputs": [
    {
     "name": "stdout",
     "output_type": "stream",
     "text": [
      "The autoreload extension is already loaded. To reload it, use:\n",
      "  %reload_ext autoreload\n"
     ]
    }
   ],
   "source": []
  },
  {
   "cell_type": "code",
   "execution_count": 21,
   "metadata": {},
   "outputs": [
    {
     "name": "stderr",
     "output_type": "stream",
     "text": [
      "/Users/maxwu/miniconda3/envs/ganimals/lib/python3.6/site-packages/ipykernel_launcher.py:1: UserWarning: Boolean Series key will be reindexed to match DataFrame index.\n",
      "  \"\"\"Entry point for launching an IPython kernel.\n"
     ]
    },
    {
     "data": {
      "text/plain": [
       "<matplotlib.axes._subplots.AxesSubplot at 0x7ff0d3944358>"
      ]
     },
     "execution_count": 21,
     "metadata": {},
     "output_type": "execute_result"
    },
    {
     "data": {
      "image/png": "[encoded data removed]",
      "text/plain": [
       "<Figure size 432x288 with 1 Axes>"
      ]
     },
     "metadata": {
      "needs_background": "light"
     },
     "output_type": "display_data"
    }
   ],
   "source": [
    "distances = df_create[df_create['Person1']==1][df_create['Person2']==390][df_create['Time']<573]['Distance']\n",
    "distances.hist()\n",
    "plt.title(\"Base DATASET Distances between Person 1 and 390\")\n",
    "plt.xlabel(\"Distance (m)\")\n",
    "plt.ylabel(\"Count\")\n",
    "plt.xlim(0, 50)"
   ]
  },
  {
   "cell_type": "code",
   "execution_count": 25,
   "metadata": {},
   "outputs": [
    {
     "name": "stderr",
     "output_type": "stream",
     "text": [
      "/Users/maxwu/miniconda3/envs/ganimals/lib/python3.6/site-packages/ipykernel_launcher.py:1: UserWarning: Boolean Series key will be reindexed to match DataFrame index.\n",
      "  \"\"\"Entry point for launching an IPython kernel.\n"
     ]
    },
    {
     "data": {
      "text/plain": [
       "(0, 50)"
      ]
     },
     "execution_count": 25,
     "metadata": {},
     "output_type": "execute_result"
    },
    {
     "data": {
      "image/png": "[encoded data removed]",
      "text/plain": [
       "<Figure size 432x288 with 1 Axes>"
      ]
     },
     "metadata": {
      "needs_background": "light"
     },
     "output_type": "display_data"
    }
   ],
   "source": [
    "distances = df_create[df_create['Person1']==1][df_create['Person2']==390][df_create['Time']>=573]['Distance']\n",
    "distances.hist()\n",
    "plt.title(\"GENERATED DATASET Distances between Person 1 and 390\")\n",
    "plt.xlabel(\"Distance (m)\")\n",
    "plt.ylabel(\"Count\")\n",
    "plt.xlim(0, 50)"
   ]
  },
  {
   "cell_type": "code",
   "execution_count": null,
   "metadata": {},
   "outputs": [],
   "source": []
  }
 ],
 "metadata": {
  "kernelspec": {
   "display_name": "Python 3",
   "language": "python",
   "name": "python3"
  },
  "language_info": {
   "codemirror_mode": {
    "name": "ipython",
    "version": 3
   },
   "file_extension": ".py",
   "mimetype": "text/x-python",
   "name": "python",
   "nbconvert_exporter": "python",
   "pygments_lexer": "ipython3",
   "version": "3.6.8"
  }
 },
 "nbformat": 4,
 "nbformat_minor": 4
}
