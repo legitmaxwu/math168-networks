{
 "cells": [
  {
   "cell_type": "code",
   "execution_count": 1,
   "metadata": {},
   "outputs": [],
   "source": [
    "import numpy as np\n",
    "import pandas as pd\n",
    "import matplotlib.pyplot as plt"
   ]
  },
  {
   "cell_type": "code",
   "execution_count": 2,
   "metadata": {},
   "outputs": [
    {
     "name": "stdout",
     "output_type": "stream",
     "text": [
      "[[  1.   1. 390.  17.]\n",
      " [  1.   2. 215.   9.]\n",
      " [  1.   2. 246.  18.]\n",
      " ...\n",
      " [576. 404. 431.   0.]\n",
      " [576. 426. 442.   1.]\n",
      " [576. 428. 447.  27.]]\n"
     ]
    }
   ],
   "source": [
    "import csv\n",
    "np_data = np.loadtxt(\"./data/Kissler_DataS1.csv\", delimiter=\",\")\n",
    "\n",
    "print(np_data)\n"
   ]
  },
  {
   "cell_type": "code",
   "execution_count": null,
   "metadata": {},
   "outputs": [],
   "source": []
  }
 ],
 "metadata": {
  "kernelspec": {
   "display_name": "Python 3",
   "language": "python",
   "name": "python3"
  },
  "language_info": {
   "codemirror_mode": {
    "name": "ipython",
    "version": 3
   },
   "file_extension": ".py",
   "mimetype": "text/x-python",
   "name": "python",
   "nbconvert_exporter": "python",
   "pygments_lexer": "ipython3",
   "version": "3.8.3"
  }
 },
 "nbformat": 4,
 "nbformat_minor": 4
}
